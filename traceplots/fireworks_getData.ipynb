{
 "cells": [
  {
   "cell_type": "code",
   "execution_count": 1,
   "metadata": {},
   "outputs": [],
   "source": [
    "import gsc\n",
    "import numpy as np\n",
    "import re\n",
    "\n",
    "# Just terminals are similar, agreement is probabilistic for SP"
   ]
  },
  {
   "cell_type": "code",
   "execution_count": 2,
   "metadata": {},
   "outputs": [],
   "source": [
    "net = gsc.load_model('../training/s50Gram_nSim70_vSim00.pkl')"
   ]
  },
  {
   "cell_type": "code",
   "execution_count": 3,
   "metadata": {},
   "outputs": [
    {
     "name": "stdout",
     "output_type": "stream",
     "text": [
      "['Ns', 'Np', 'NPCs[2]'] 548\n",
      "['Ns', 'Np', 'Vs', 'NPCs[2]'] 1772\n",
      "['Ns', 'Ns', 'Vs', 'NPCs[1]'] 683\n",
      "['Ns', 'Np', 'Vp', 'NPCp[3]'] 760\n",
      "['Ns', 'Vs', 'S[1]'] 59\n",
      "['Ns', 'Ns', 'Vp', 'NPCs[1]'] 85\n",
      "['Ns', 'Ns', 'NPCs[1]'] 48\n",
      "['Np', 'Np', 'Vp', 'NPCp[2]'] 21\n",
      "['Ns', 'Np', 'S[1]'] 3\n",
      "['Ns', 'Np', 'Vp', 'NPCs[2]'] 4\n",
      "['Ns', 'Np', 'Vs', 'Vs', 'NPCs[2]'] 1\n",
      "['Ns', 'Np', 'Vp', 'Vs', '*Ns', 'RC[2]'] 6\n",
      "['Np', 'Ns', 'Vp', 'NPCp[1]'] 7\n",
      "['Ns', 'Np', 'Vp', 'Vp', '*Ns', 'RC[2]'] 1\n",
      "['Np', 'Ns', 'NPCp[1]'] 1\n",
      "['Ns', 'Np', 'Vp', 'NPCs[2]', 'RC[2]'] 1\n"
     ]
    }
   ],
   "source": [
    "# .9 decay,.5 terminal, .5 phrase, 0.5 sentence \n",
    "\n",
    "np.random.seed(20181107)\n",
    "input_decay_rate = 0.90\n",
    "\n",
    "correctTrialTraces = []\n",
    "attractionErrorTracesCollective = []\n",
    "attractionErrorTracesOther = []\n",
    "locErrorTraces = []\n",
    "\n",
    "\n",
    "duration = 15\n",
    "input_terminals = ['Ns:0/(1,1)','Np:1/(1,2)']\n",
    "partial_input_terminals = ['Ns:1/(1,1)','Np:0/(1,2)']\n",
    "input_phrases = ['NPCs[2]:0/(2,1)']\n",
    "input_sentence = ['S[3]:0/(3,1)']\n",
    "resultStrings = {}\n",
    "\n",
    "curr_extC = np.zeros(net.num_bindings) ## start with zeros everywhere\n",
    "idx = net.find_bindings(input_terminals)\n",
    "curr_extC[idx] = 0.5\n",
    "idx = net.find_bindings(partial_input_terminals)\n",
    "curr_extC[idx] = 0.5\n",
    "idx2 = net.find_bindings(input_phrases)\n",
    "curr_extC[idx2] = 0.5\n",
    "idx3 = net.find_bindings(input_sentence)\n",
    "curr_extC[idx3] = 0.5\n",
    "\n",
    "for trialcount in range(4000):\n",
    "\n",
    "    net.reset(mu=net.ep, sd=0.02)\n",
    "    \n",
    "    net.extC += 1. * curr_extC # set conceptual level input\n",
    "    net.ext = net.C2N(net.extC) # rotate to neural coordinates\n",
    "\n",
    "    for i in range(duration):\n",
    "        net.run(1)\n",
    "        net.extC = net.extC * input_decay_rate\n",
    "        net.ext = net.C2N(net.extC)\n",
    "\n",
    "    \n",
    "    #count up outputs\n",
    "    output_elements = []\n",
    "    for element in net.read_grid_point():\n",
    "        f,r = element.split('/')\n",
    "        if re.match(r'\\(1\\,',r) and f.find('@') == -1:\n",
    "            fUnparsed,branch = f.split (':')\n",
    "            output_elements.append(fUnparsed)  #strip locations\n",
    "        if re.match(r'\\(2\\,',r) and f.find('@') == -1 and f.find('V') == -1:\n",
    "            fUnparsed,branch = f.split (':')\n",
    "            output_elements.append(fUnparsed)  #strip locations\n",
    "    if (str(output_elements) in resultStrings):\n",
    "        resultStrings[str(output_elements)] += 1\n",
    "    else:\n",
    "        resultStrings[str(output_elements)] = 1\n",
    "\n",
    "    if (str(output_elements) == \"['Ns', 'Np', 'Vs', 'NPCs[2]']\"):\n",
    "        correctTrialTraces.append(net.traces['actC'])\n",
    "    if (str(output_elements) == \"['Ns', 'Ns', 'Vs', 'NPCs[1]']\"):\n",
    "        locErrorTraces.append(net.traces['actC'])\n",
    "    if (str(output_elements) == \"['Ns', 'Np', 'Vp', 'NPCp[3]']\"):\n",
    "        attractionErrorTracesCollective.append(net.traces['actC'])\n",
    "    ## otherwise, put it in the other one:\n",
    "    if (str(output_elements) == \"['Ns', 'Np', 'Vp', 'NPCs[1]']\"):\n",
    "        attractionErrorTracesOther.append(net.traces['actC'])\n",
    "    if (str(output_elements) == \"['Ns', 'Np', 'Vp', 'NPCs[2]']\"):\n",
    "        attractionErrorTracesOther.append(net.traces['actC'])\n",
    "    if (str(output_elements) == \"['Ns', 'Np', 'Vp', 'NPCp[1]']\"):\n",
    "        attractionErrorTracesOther.append(net.traces['actC'])\n",
    "    if (str(output_elements) == \"['Ns', 'Np', 'Vp', 'NPCp[2]']\"):\n",
    "        attractionErrorTracesOther.append(net.traces['actC'])\n",
    "     \n",
    "        \n",
    "for key in resultStrings:\n",
    "    print(key,resultStrings[key])    "
   ]
  },
  {
   "cell_type": "code",
   "execution_count": 4,
   "metadata": {},
   "outputs": [],
   "source": [
    "np.save('correctTrialTraces-Best.npy',correctTrialTraces)\n",
    "np.save('attractionErrorTracesCollective-Best.npy',attractionErrorTracesCollective)\n",
    "np.save('attractionErrorTracesOther-Best.npy',attractionErrorTracesOther)\n",
    "np.save('locErrorTraces-Best.npy',locErrorTraces)\n",
    "np.save('resultStrings-Best.npy',resultStrings)"
   ]
  },
  {
   "cell_type": "code",
   "execution_count": null,
   "metadata": {},
   "outputs": [],
   "source": []
  }
 ],
 "metadata": {
  "kernelspec": {
   "display_name": "Python 3",
   "language": "python",
   "name": "python3"
  },
  "language_info": {
   "codemirror_mode": {
    "name": "ipython",
    "version": 3
   },
   "file_extension": ".py",
   "mimetype": "text/x-python",
   "name": "python",
   "nbconvert_exporter": "python",
   "pygments_lexer": "ipython3",
   "version": "3.7.2"
  }
 },
 "nbformat": 4,
 "nbformat_minor": 2
}
